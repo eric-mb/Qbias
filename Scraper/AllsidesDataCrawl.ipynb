{
 "cells": [
  {
   "cell_type": "markdown",
   "id": "7f8595ab-ad00-435e-9d18-f92b0993609e",
   "metadata": {},
   "source": [
    "## Import of required Modules\n",
    "Make sure, that the imported moduls are installed."
   ]
  },
  {
   "cell_type": "code",
   "execution_count": null,
   "id": "8b078c40-20cc-46c4-9a09-2947812fcfe0",
   "metadata": {},
   "outputs": [],
   "source": [
    "from selenium import webdriver\n",
    "from selenium.webdriver.support import expected_conditions as EC\n",
    "from selenium.webdriver.common.by import By\n",
    "from selenium.webdriver.support.ui import WebDriverWait\n",
    "from selenium.webdriver.chrome.options import Options\n",
    "from selenium.webdriver.chrome.service import Service\n",
    "from selenium.webdriver.remote.webelement import WebElement"
   ]
  },
  {
   "cell_type": "markdown",
   "id": "788d1a88-6955-4e93-a558-54a8488e7697",
   "metadata": {},
   "source": [
    "#### set up Selenium and Chrome Driver \n",
    "We use selenium with Chrome and tested the scraper with the chromedriver. You need the latest version of the driver from https://chromedriver.chromium.org/. Alternatively, change to the driver to a driver of your preference.\n",
    "We set up the scraper to run in the background, if you wish to run it in regular window mode, remove the line  \"chrome_options.add_argument(\"--headless\")\"."
   ]
  },
  {
   "cell_type": "code",
   "execution_count": null,
   "id": "94b6234d-8171-4a69-8547-4247ae6d3453",
   "metadata": {},
   "outputs": [],
   "source": [
    "# chromedriver setup\n",
    "\n",
    "serv = Service(r'driver/chromedriver') #path from 'which chromedriver'\n",
    "\n",
    "# test driver\n",
    "# for headless chrome mode\n",
    "chrome_options = Options()\n",
    "\n",
    "# remove this line if you do not wish to run in background \n",
    "# chrome_options.add_argument(\"--headless\") "
   ]
  },
  {
   "cell_type": "markdown",
   "id": "4485ef6d",
   "metadata": {},
   "source": [
    "### Data classes"
   ]
  },
  {
   "cell_type": "code",
   "execution_count": null,
   "id": "14eb0b31",
   "metadata": {},
   "outputs": [],
   "source": [
    "from dataclasses import dataclass, field\n",
    "from typing import Literal, List\n",
    "\n",
    "@dataclass\n",
    "class Article:\n",
    "    source: str\n",
    "    headline: str\n",
    "    link: str\n",
    "\n",
    "    rating: Literal[\"left\", \"lean left\", \"center\", \"lean right\", \"right\"]\n",
    "    summary: str\n",
    "    image_link: str\n",
    "\n",
    "@dataclass\n",
    "class Story:\n",
    "    date: str\n",
    "\n",
    "    headline: str\n",
    "    headline_link: str\n",
    "\n",
    "    topic: str\n",
    "    topic_link: str\n",
    "\n",
    "    summary: str = \"\"\n",
    "    tags: List[str] = field(default_factory=lambda: [])\n",
    "\n",
    "    left: Article | None = None\n",
    "    center: Article | None = None\n",
    "    right: Article | None = None\n"
   ]
  },
  {
   "cell_type": "markdown",
   "id": "dd1dc8d1",
   "metadata": {},
   "source": [
    "### Retrieval functions"
   ]
  },
  {
   "cell_type": "code",
   "execution_count": null,
   "id": "fb14042a",
   "metadata": {},
   "outputs": [],
   "source": [
    "def get_brief_stories_on_page(driver: webdriver.Chrome) -> List[Story]:\n",
    "    \"\"\"Get stories from headline_roundup\n",
    "\n",
    "    Args:\n",
    "        driver (WebDriver): Webdriver with loaded overview page\n",
    "\n",
    "    Returns:\n",
    "        List[Story]: List of stories (without more detailed information (news articles...))\n",
    "    \"\"\"\n",
    "    stories: list[Story] = []\n",
    "\n",
    "    story_rows = driver.find_elements(By.CSS_SELECTOR, \".views-table tbody tr\")\n",
    "\n",
    "    # loop trough all news stories for the given date (range)\n",
    "    for row in story_rows:\n",
    "        cols = row.find_elements(By.CSS_SELECTOR, \"td\")\n",
    "        headline = cols[0].find_element(By.CSS_SELECTOR, \"a\")\n",
    "        topic = cols[1].find_element(By.CSS_SELECTOR, \"a\")\n",
    "        date = cols[2].find_element(By.CSS_SELECTOR, \"span\").text\n",
    "\n",
    "        stories.append(Story(\n",
    "            date,\n",
    "            headline.text,\n",
    "            headline.get_attribute(\"href\"),\n",
    "            topic.text,\n",
    "            topic.get_attribute(\"href\")\n",
    "        ))\n",
    "    return stories\n",
    "    \n",
    "\n",
    "def get_article_information(section: WebElement) -> Article:\n",
    "    title = section.find_element(By.CSS_SELECTOR, \".news-title\")\n",
    "    source = section.find_element(By.CSS_SELECTOR, \".news-source span\")\n",
    "    raw_rating = section.find_element(By.CSS_SELECTOR, \".source-area img\").get_attribute(\"title\")\n",
    "\n",
    "    ratings = {\n",
    "        \"AllSides Media Bias Rating: Left\": \"left\", \n",
    "        \"AllSides Media Bias Rating: Lean Left\": \"lean left\", \n",
    "        \"AllSides Media Bias Rating: Center\": \"center\", \n",
    "        \"AllSides Media Bias Rating: Lean Right\": \"lean right\", \n",
    "        \"AllSides Media Bias Rating: Right\": \"right\",\n",
    "        \"AllSides Media Bias Rating: Mixed\": \"mixed\",\n",
    "        \"\": \"right\", # TODO check if always correct?\n",
    "    }\n",
    "    if not raw_rating:\n",
    "        print(\"No rating title: \", source.text)\n",
    "    if \"Mixed\" in raw_rating:\n",
    "        print(source.text)\n",
    "\n",
    "    try:\n",
    "        image = section.find_element(By.CSS_SELECTOR, \".headline-roundup-image img\")\n",
    "        image_link = image.get_attribute(\"src\")\n",
    "    except:\n",
    "        image_link = \"\"\n",
    "    body = section.find_elements(By.CSS_SELECTOR, \".news-body .body-contents\")\n",
    "    summary = \"\"\n",
    "    for paragraph in body:\n",
    "        summary += f\"{paragraph.text}\\n\"\n",
    "    summary = summary.strip()\n",
    "\n",
    "    return Article(\n",
    "        source.text,\n",
    "        title.text,\n",
    "        title.get_attribute(\"href\"),\n",
    "        ratings[raw_rating],\n",
    "        summary,\n",
    "        image_link\n",
    "    )\n",
    "\n",
    "\n",
    "def get_story_details(driver: webdriver.Chrome, stories: List[Story]):\n",
    "    \"\"\"Adds information from story page to each story in stories\n",
    "\n",
    "    Args:\n",
    "        driver (WebDriver): _description_\n",
    "        stories (List[Story]): List of stories without detailed information\n",
    "    \"\"\"\n",
    "    for story in stories:\n",
    "        driver.get(story.headline_link)\n",
    "        wait = WebDriverWait(driver, 7)\n",
    "        wait.until(EC.element_to_be_clickable((By.CSS_SELECTOR, '.view-content')))\n",
    "\n",
    "        tags = driver.find_elements(By.CSS_SELECTOR, \".page-tags a\")\n",
    "        story.tags = [tag.text for tag in tags]\n",
    "\n",
    "        paragraphs = driver.find_elements(By.CSS_SELECTOR, \".story-id-page-description p\")\n",
    "        for paragraph in paragraphs:\n",
    "            story.summary += f\"{paragraph.text}\\n\"\n",
    "        story.summary = story.summary.strip()\n",
    "\n",
    "        article_sections = driver.find_elements(By.CSS_SELECTOR, \".featured-coverage .news-item\")\n",
    "\n",
    "        for section in article_sections:\n",
    "            if \"left\" in section.get_attribute(\"class\"):\n",
    "                story.left = get_article_information(section)\n",
    "            if \"center\" in section.get_attribute(\"class\"):\n",
    "                story.center = get_article_information(section)\n",
    "            if \"right\" in section.get_attribute(\"class\"):\n",
    "                story.right = get_article_information(section)\n"
   ]
  },
  {
   "cell_type": "markdown",
   "id": "a153cf31-4c05-4b1c-8699-60ab5630dcd5",
   "metadata": {
    "tags": []
   },
   "source": [
    "### Retrieve Article Links for Crawl"
   ]
  },
  {
   "cell_type": "code",
   "execution_count": null,
   "id": "1389d55b-9b73-42a8-83f9-a10b26caa7e5",
   "metadata": {
    "tags": []
   },
   "outputs": [],
   "source": [
    "driver = webdriver.Chrome()\n",
    "\n",
    "url = 'https://www.allsides.com/headline-roundups'\n",
    "wait = WebDriverWait(driver, 10)"
   ]
  },
  {
   "cell_type": "markdown",
   "id": "f638b3e0",
   "metadata": {},
   "source": [
    "### Get brief story information and links"
   ]
  },
  {
   "cell_type": "code",
   "execution_count": null,
   "id": "a6ea153f",
   "metadata": {},
   "outputs": [],
   "source": [
    "stories = get_brief_stories_on_page(driver)\n",
    "NUM_PAGES = 3 # TODO adjust for usecase\n",
    "for i in range(1, NUM_PAGES + 1):\n",
    "    driver.get(f\"{url}?page={i}\")\n",
    "    wait.until(EC.element_to_be_clickable((By.CSS_SELECTOR, '.views-field a')))\n",
    "    stories.extend(get_brief_stories_on_page(driver))\n",
    "\n",
    "# display(stories)"
   ]
  },
  {
   "cell_type": "markdown",
   "id": "91a020ae",
   "metadata": {},
   "source": [
    "### Fill in story information and articles"
   ]
  },
  {
   "cell_type": "code",
   "execution_count": null,
   "id": "dd9c49a3",
   "metadata": {},
   "outputs": [],
   "source": [
    "get_story_details(driver, stories)\n",
    "# display(stories)"
   ]
  },
  {
   "cell_type": "markdown",
   "id": "d03df279",
   "metadata": {},
   "source": [
    "### Saving crawl"
   ]
  },
  {
   "cell_type": "code",
   "execution_count": null,
   "id": "59656ae5",
   "metadata": {},
   "outputs": [],
   "source": [
    "import pickle\n",
    "\n",
    "with open('allsides_crawl.pkl', 'wb') as f:\n",
    "    pickle.dump(stories, f)"
   ]
  }
 ],
 "metadata": {
  "kernelspec": {
   "display_name": "allsides",
   "language": "python",
   "name": "python3"
  },
  "language_info": {
   "codemirror_mode": {
    "name": "ipython",
    "version": 3
   },
   "file_extension": ".py",
   "mimetype": "text/x-python",
   "name": "python",
   "nbconvert_exporter": "python",
   "pygments_lexer": "ipython3",
   "version": "3.12.9"
  }
 },
 "nbformat": 4,
 "nbformat_minor": 5
}
